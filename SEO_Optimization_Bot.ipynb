{
  "nbformat": 4,
  "nbformat_minor": 0,
  "metadata": {
    "colab": {
      "provenance": [],
      "authorship_tag": "ABX9TyPNj7S6wp/aICRDyIdjdi13",
      "include_colab_link": true
    },
    "kernelspec": {
      "name": "python3",
      "display_name": "Python 3"
    },
    "language_info": {
      "name": "python"
    }
  },
  "cells": [
    {
      "cell_type": "markdown",
      "metadata": {
        "id": "view-in-github",
        "colab_type": "text"
      },
      "source": [
        "<a href=\"https://colab.research.google.com/github/Tanishta15/SSDigimark/blob/main/SEO_Optimization_Bot.ipynb\" target=\"_parent\"><img src=\"https://colab.research.google.com/assets/colab-badge.svg\" alt=\"Open In Colab\"/></a>"
      ]
    },
    {
      "cell_type": "code",
      "execution_count": 1,
      "metadata": {
        "colab": {
          "base_uri": "https://localhost:8080/"
        },
        "collapsed": true,
        "id": "8sT7mVHUpNjQ",
        "outputId": "4249a8a7-affa-4d5d-afaf-dca3c794d60b"
      },
      "outputs": [
        {
          "output_type": "stream",
          "name": "stdout",
          "text": [
            "Requirement already satisfied: requests in /usr/local/lib/python3.11/dist-packages (2.32.3)\n",
            "Requirement already satisfied: beautifulsoup4 in /usr/local/lib/python3.11/dist-packages (4.13.4)\n",
            "Requirement already satisfied: nltk in /usr/local/lib/python3.11/dist-packages (3.9.1)\n",
            "Collecting googlesearch-python\n",
            "  Downloading googlesearch_python-1.3.0-py3-none-any.whl.metadata (3.4 kB)\n",
            "Requirement already satisfied: charset-normalizer<4,>=2 in /usr/local/lib/python3.11/dist-packages (from requests) (3.4.2)\n",
            "Requirement already satisfied: idna<4,>=2.5 in /usr/local/lib/python3.11/dist-packages (from requests) (3.10)\n",
            "Requirement already satisfied: urllib3<3,>=1.21.1 in /usr/local/lib/python3.11/dist-packages (from requests) (2.4.0)\n",
            "Requirement already satisfied: certifi>=2017.4.17 in /usr/local/lib/python3.11/dist-packages (from requests) (2025.4.26)\n",
            "Requirement already satisfied: soupsieve>1.2 in /usr/local/lib/python3.11/dist-packages (from beautifulsoup4) (2.7)\n",
            "Requirement already satisfied: typing-extensions>=4.0.0 in /usr/local/lib/python3.11/dist-packages (from beautifulsoup4) (4.13.2)\n",
            "Requirement already satisfied: click in /usr/local/lib/python3.11/dist-packages (from nltk) (8.2.1)\n",
            "Requirement already satisfied: joblib in /usr/local/lib/python3.11/dist-packages (from nltk) (1.5.1)\n",
            "Requirement already satisfied: regex>=2021.8.3 in /usr/local/lib/python3.11/dist-packages (from nltk) (2024.11.6)\n",
            "Requirement already satisfied: tqdm in /usr/local/lib/python3.11/dist-packages (from nltk) (4.67.1)\n",
            "Downloading googlesearch_python-1.3.0-py3-none-any.whl (5.6 kB)\n",
            "Installing collected packages: googlesearch-python\n",
            "Successfully installed googlesearch-python-1.3.0\n"
          ]
        }
      ],
      "source": [
        "pip install requests beautifulsoup4 nltk googlesearch-python"
      ]
    },
    {
      "cell_type": "code",
      "source": [
        "import nltk\n",
        "\n",
        "nltk.download('punkt')\n",
        "nltk.download('stopwords')\n",
        "nltk.download('punkt_tab')"
      ],
      "metadata": {
        "colab": {
          "base_uri": "https://localhost:8080/"
        },
        "collapsed": true,
        "id": "5Ajh2I7apW9z",
        "outputId": "ad0e64e3-8023-4003-dc25-6b9adde50d3b"
      },
      "execution_count": 7,
      "outputs": [
        {
          "output_type": "stream",
          "name": "stderr",
          "text": [
            "[nltk_data] Downloading package punkt to /root/nltk_data...\n",
            "[nltk_data]   Package punkt is already up-to-date!\n",
            "[nltk_data] Downloading package stopwords to /root/nltk_data...\n",
            "[nltk_data]   Package stopwords is already up-to-date!\n",
            "[nltk_data] Downloading package punkt_tab to /root/nltk_data...\n",
            "[nltk_data]   Unzipping tokenizers/punkt_tab.zip.\n"
          ]
        },
        {
          "output_type": "execute_result",
          "data": {
            "text/plain": [
              "True"
            ]
          },
          "metadata": {},
          "execution_count": 7
        }
      ]
    },
    {
      "cell_type": "code",
      "source": [
        "import requests\n",
        "from bs4 import BeautifulSoup\n",
        "from nltk.corpus import stopwords\n",
        "from nltk.tokenize import word_tokenize\n",
        "from googlesearch import search\n",
        "from collections import Counter\n",
        "import re"
      ],
      "metadata": {
        "id": "57dzkyJYpZWZ"
      },
      "execution_count": 3,
      "outputs": []
    },
    {
      "cell_type": "code",
      "source": [
        "URL = \"https://ssdigimark.com\"\n",
        "TARGET_KEYWORDS = ['digital marketing', 'seo', 'content marketing', 'ppc', 'branding']\n",
        "\n",
        "# === Functions ===\n",
        "\n",
        "def fetch_html(url):\n",
        "    response = requests.get(url)\n",
        "    return response.text if response.status_code == 200 else None\n",
        "\n",
        "def extract_seo_elements(html):\n",
        "    soup = BeautifulSoup(html, 'html.parser')\n",
        "    title = soup.title.string if soup.title else \"No title\"\n",
        "    meta_desc = soup.find(\"meta\", attrs={\"name\": \"description\"})\n",
        "    meta_desc = meta_desc[\"content\"] if meta_desc else \"No meta description\"\n",
        "    headings = [tag.text.strip() for tag in soup.find_all(re.compile('^h[1-6]$'))]\n",
        "    text = soup.get_text()\n",
        "    return title, meta_desc, headings, text\n",
        "\n",
        "def keyword_density_analysis(text, keywords):\n",
        "    words = word_tokenize(text.lower())\n",
        "    filtered = [w for w in words if w.isalpha() and w not in stopwords.words('english')]\n",
        "    freq = Counter(filtered)\n",
        "    return {kw: freq[kw.lower()] for kw in keywords}\n",
        "\n",
        "def check_missing_elements(title, meta_desc, headings):\n",
        "    issues = []\n",
        "    if title == \"No title\":\n",
        "        issues.append(\"Missing <title> tag.\")\n",
        "    if meta_desc == \"No meta description\":\n",
        "        issues.append(\"Missing meta description.\")\n",
        "    if not any(\"h1\" in h.lower() for h in headings):\n",
        "        issues.append(\"Missing H1 heading.\")\n",
        "    return issues\n",
        "\n",
        "def competitor_analysis(keyword):\n",
        "    print(f\"\\n🔎 SERP Analysis for keyword: '{keyword}'\")\n",
        "    results = list(search(keyword, num_results=5))\n",
        "    for i, url in enumerate(results, 1):\n",
        "        print(f\"{i}. {url}\")\n",
        "    return results\n",
        "\n",
        "# === Main Script ===\n",
        "\n",
        "print(f\"🔍 Analyzing: {URL}\")\n",
        "html = fetch_html(URL)\n",
        "if not html:\n",
        "    print(\"❌ Failed to fetch website.\")\n",
        "else:\n",
        "    title, meta_desc, headings, text = extract_seo_elements(html)\n",
        "    print(\"\\n✅ SEO Elements Found:\")\n",
        "    print(f\"Title: {title}\")\n",
        "    print(f\"Meta Description: {meta_desc}\")\n",
        "    print(f\"Headings: {headings}\")\n",
        "\n",
        "    print(\"\\n📊 Keyword Density:\")\n",
        "    densities = keyword_density_analysis(text, TARGET_KEYWORDS)\n",
        "    for kw, count in densities.items():\n",
        "        print(f\"{kw}: {count} occurrence(s)\")\n",
        "\n",
        "    print(\"\\n⚠️ SEO Issues:\")\n",
        "    for issue in check_missing_elements(title, meta_desc, headings):\n",
        "        print(f\" - {issue}\")\n",
        "\n",
        "    print(\"\\n🌐 Competitor SERP Analysis:\")\n",
        "    for keyword in TARGET_KEYWORDS[:2]:  # limit to first 2 for demo\n",
        "        competitor_analysis(keyword)"
      ],
      "metadata": {
        "colab": {
          "base_uri": "https://localhost:8080/"
        },
        "id": "ZTGGkPLlpdh3",
        "outputId": "8f131d7f-1429-46d1-f268-55f20e835f5c"
      },
      "execution_count": 8,
      "outputs": [
        {
          "output_type": "stream",
          "name": "stdout",
          "text": [
            "🔍 Analyzing: https://ssdigimark.com\n",
            "\n",
            "✅ SEO Elements Found:\n",
            "Title: Best Digital Marketing Company in Bhopal | Top SEO,SEM,SMM Agency | SSDIGIMARK\n",
            "Meta Description:  SSDigimark is a top digital marketing company in Bhopal, India. Contact for the best digital marketing services, such as SEO, Google Ads, Social Media Marketing, Graphic Design, Video Production, Content Marketing & Online Reputation Management etc.\n",
            "Headings: ['Digital Marketing Agency In Bhopal\\r\\n                                        You Can Rely Upon !', 'Services\\r\\n                                        We Can Help You With !', 'Sweta Singh Tomar', 'Website Development', 'Graphic & Sketch Designing', 'SEO & Content Writing', 'Digital Market Planning', 'GET A FREE CONSULTATION', 'Introduction \\r\\n                                            To Best Digital Marketing Agency!', '4+', 'YEARS', 'Mission \\r\\n                                        We Aim For You!', 'Marketing', 'Solution', 'Success', 'Services \\r\\n                                    We Offer', 'Digital Marketing', 'Web Development', 'Graphics Design', 'Software Development', 'UX UI Design', 'Shopify Store Development', 'Client \\r\\n                                    Testimonials', 'Nilesh Diwakar', 'Dr. Deepika Pathak', 'Mr. Prasad pillai', 'Contact \\r\\n                                    & Join Together', 'Office Address :', 'Phone Number :', 'Mail Address :', 'Get In Touch !', 'News \\r\\n                                    & Blogs', 'AI Empowering Companies, Fetching Businesses Visibility.', 'Here’s The Ultimate Guide to SEO for Beginners', 'Best SEO Tools To Improve Your Search Engine Ranking In 2023', 'Subscribe \\r\\n                                    To Get Latest Update From Us', 'About', 'Support', 'Contact Information']\n",
            "\n",
            "📊 Keyword Density:\n",
            "digital marketing: 0 occurrence(s)\n",
            "seo: 12 occurrence(s)\n",
            "content marketing: 0 occurrence(s)\n",
            "ppc: 0 occurrence(s)\n",
            "branding: 2 occurrence(s)\n",
            "\n",
            "⚠️ SEO Issues:\n",
            " - Missing H1 heading.\n",
            "\n",
            "🌐 Competitor SERP Analysis:\n",
            "\n",
            "🔎 SERP Analysis for keyword: 'digital marketing'\n",
            "1. https://www.investopedia.com/terms/d/digital-marketing.asp\n",
            "2. https://digitalmarketinginstitute.com/\n",
            "3. https://www.reddit.com/r/DigitalMarketing/\n",
            "4. https://business.adobe.com/blog/basics/digital-marketing\n",
            "5. https://www.snhu.edu/about-us/newsroom/business/types-of-digital-marketing\n",
            "\n",
            "🔎 SERP Analysis for keyword: 'seo'\n",
            "1. https://developers.google.com/search/docs/fundamentals/seo-starter-guide\n",
            "2. https://www.seo-usa.org/\n",
            "3. https://searchengineland.com/guide/what-is-seo\n",
            "4. https://en.wikipedia.org/wiki/Search_engine_optimization\n",
            "5. https://www.reddit.com/r/SEO/\n"
          ]
        }
      ]
    }
  ]
}