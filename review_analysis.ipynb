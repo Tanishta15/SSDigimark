{
  "nbformat": 4,
  "nbformat_minor": 0,
  "metadata": {
    "colab": {
      "provenance": [],
      "authorship_tag": "ABX9TyNezeqnhXd5SSDjO8iWbYzb",
      "include_colab_link": true
    },
    "kernelspec": {
      "name": "python3",
      "display_name": "Python 3"
    },
    "language_info": {
      "name": "python"
    }
  },
  "cells": [
    {
      "cell_type": "markdown",
      "metadata": {
        "id": "view-in-github",
        "colab_type": "text"
      },
      "source": [
        "<a href=\"https://colab.research.google.com/github/Tanishta15/SSDigimark/blob/main/review_analysis.ipynb\" target=\"_parent\"><img src=\"https://colab.research.google.com/assets/colab-badge.svg\" alt=\"Open In Colab\"/></a>"
      ]
    },
    {
      "cell_type": "code",
      "execution_count": null,
      "metadata": {
        "id": "ertdCfnGvhf0"
      },
      "outputs": [],
      "source": [
        "import requests\n",
        "from textblob import TextBlob\n",
        "import http.client\n",
        "import json\n",
        "\n",
        "BUSINESS_NAME = \"GOOGLE\"\n",
        "LOCATION = \"California, U.S\"\n",
        "\n",
        "# Your RapidAPI credentials (fill your actual key and host)\n",
        "RAPIDAPI_KEY = \"01cd200125msha6a048803311025p15b3edjsn5ffb9e658b8d\"\n",
        "RAPIDAPI_HOST = \"local-business-data.p.rapidapi.com\""
      ]
    },
    {
      "cell_type": "code",
      "source": [
        "def get_reviews(business_name, location):\n",
        "    # Step 1: Search business to get business_id\n",
        "    url = \"https://local-business-data.p.rapidapi.com/search\"\n",
        "    querystring = {\n",
        "        \"query\": f\"{business_name} {location}\",\n",
        "        \"limit\": \"1\",\n",
        "        \"language\": \"en\"\n",
        "    }\n",
        "    headers = {\n",
        "        \"X-RapidAPI-Key\": RAPIDAPI_KEY,\n",
        "        \"X-RapidAPI-Host\": RAPIDAPI_HOST\n",
        "    }\n",
        "\n",
        "    print(\"Starting business review fetch...\")\n",
        "    response = requests.get(url, headers=headers, params=querystring)\n",
        "    data = response.json()\n",
        "\n",
        "    print(f\"Search Query Sent: {business_name} {location}\")\n",
        "    print(\"Search API Raw Response:\", data)\n",
        "\n",
        "    if \"data\" not in data or not data[\"data\"]:\n",
        "        print(\"No business found.\")\n",
        "        return []\n",
        "\n",
        "    # Extract business_id (from your example: \"business_id\" key)\n",
        "    business_id = data[\"data\"][0].get(\"business_id\")\n",
        "    if not business_id:\n",
        "        print(\"Business ID not found in search results.\")\n",
        "        return []\n",
        "\n",
        "    # Step 2: Use http.client to call /review-details with business_id\n",
        "    conn = http.client.HTTPSConnection(RAPIDAPI_HOST)\n",
        "\n",
        "    headers_http = {\n",
        "        'x-rapidapi-key': RAPIDAPI_KEY,\n",
        "        'x-rapidapi-host': RAPIDAPI_HOST\n",
        "    }\n",
        "\n",
        "    # Build the request path for review-details endpoint\n",
        "    request_path = f\"/review-details?business_id={business_id}&region=us&language=en\"\n",
        "\n",
        "    conn.request(\"GET\", request_path, headers=headers_http)\n",
        "    res = conn.getresponse()\n",
        "    raw_data = res.read()\n",
        "    json_data = json.loads(raw_data.decode(\"utf-8\"))\n",
        "\n",
        "    # Extract reviews safely\n",
        "    reviews = json_data.get(\"reviews\", [])\n",
        "\n",
        "    if not reviews:\n",
        "        print(\"No reviews found.\")\n",
        "    else:\n",
        "        print(f\"Found {len(reviews)} reviews.\")\n",
        "\n",
        "    return reviews"
      ],
      "metadata": {
        "id": "3TKL0gnU26CJ"
      },
      "execution_count": null,
      "outputs": []
    },
    {
      "cell_type": "code",
      "source": [
        "def analyze_sentiment(text):\n",
        "    analysis = TextBlob(text)\n",
        "    polarity = analysis.sentiment.polarity\n",
        "\n",
        "    if polarity > 0.2:\n",
        "        return \"positive\"\n",
        "    elif polarity < -0.2:\n",
        "        return \"negative\"\n",
        "    else:\n",
        "        return \"neutral\""
      ],
      "metadata": {
        "id": "y9kAu6eXwcTZ"
      },
      "execution_count": null,
      "outputs": []
    },
    {
      "cell_type": "code",
      "source": [
        "def generate_response(sentiment):\n",
        "    responses = {\n",
        "        \"positive\": \"Thank you for your kind words! We're glad you had a great experience.\",\n",
        "        \"neutral\": \"Thanks for your feedback. We're always working to improve.\",\n",
        "        \"negative\": \"We're sorry to hear that. Please reach out to us so we can make it right.\"\n",
        "    }\n",
        "    return responses.get(sentiment, \"\")"
      ],
      "metadata": {
        "id": "CKp66jQ-wtrY"
      },
      "execution_count": null,
      "outputs": []
    },
    {
      "cell_type": "code",
      "source": [
        "def main():\n",
        "    reviews = get_reviews(BUSINESS_NAME, LOCATION)\n",
        "\n",
        "    if not reviews:\n",
        "        print(\"No reviews available to analyze.\")\n",
        "        return\n",
        "\n",
        "    print(f\"\\n--- Reviews for {BUSINESS_NAME} ---\\n\")\n",
        "    for review in reviews:\n",
        "        text = review.get(\"text\", \"\")\n",
        "        if not text.strip():\n",
        "            continue\n",
        "        sentiment = analyze_sentiment(text)\n",
        "        response = generate_response(sentiment)\n",
        "\n",
        "        print(f\"📝 Review: {text}\")\n",
        "        print(f\"🔍 Sentiment: {sentiment}\")\n",
        "        print(f\"🤖 Auto-response: {response}\")\n",
        "        print(\"-\" * 50)\n",
        "\n",
        "\n",
        "if __name__ == \"__main__\":\n",
        "    main()"
      ],
      "metadata": {
        "id": "nmOpDrvkwutw",
        "colab": {
          "base_uri": "https://localhost:8080/"
        },
        "outputId": "652da938-9163-456f-9a4a-e404c4416d15"
      },
      "execution_count": null,
      "outputs": [
        {
          "output_type": "stream",
          "name": "stdout",
          "text": [
            "Starting business review fetch...\n",
            "Search Query Sent: GOOGLE California, U.S\n",
            "Search API Raw Response: {'status': 'OK', 'request_id': 'b85016af-42b5-4ccd-8c42-a5ddd05dd8db', 'parameters': {'query': 'GOOGLE California, U.S', 'language': 'en', 'region': 'us', 'lat': 37.09024, 'lng': -95.712891, 'zoom': 13, 'limit': 1, 'offset': 0, 'extract_emails_and_contacts': False}, 'data': [{'business_id': '0x808fba02425dad8f:0x6c296c66619367e0', 'google_id': '0x808fba02425dad8f:0x6c296c66619367e0', 'place_id': 'ChIJj61dQgK6j4AR4GeTYWZsKWw', 'google_mid': '/m/03bby1', 'phone_number': '+16502530000', 'name': 'Googleplex', 'latitude': 37.4220541, 'longitude': -122.08532419999999, 'full_address': 'Googleplex, 1600 Amphitheatre Pkwy, Mountain View, CA 94043', 'review_count': 9614, 'rating': 4.2, 'timezone': 'America/Los_Angeles', 'opening_status': 'Open ⋅ Closes 5\\u202fPM', 'working_hours': {'Wednesday': ['8 AM–5 PM'], 'Thursday': ['8 AM–5 PM'], 'Friday': ['8 AM–5 PM'], 'Saturday': ['Closed'], 'Sunday': ['Closed'], 'Monday': ['8 AM–5 PM'], 'Tuesday': ['8 AM–5 PM']}, 'website': 'https://about.google/locations/?region=north-america', 'tld': 'about.google', 'verified': True, 'place_link': 'https://www.google.com/maps/place/data=!3m1!4b1!4m2!3m1!1s0x808fba02425dad8f:0x6c296c66619367e0', 'cid': '7793879817120868320', 'reviews_link': 'https://search.google.com/local/reviews?placeid=ChIJj61dQgK6j4AR4GeTYWZsKWw&q=GOOGLE+California,+U.S&authuser=0&hl=en&gl=US', 'owner_id': '118133326103041885408', 'owner_link': 'https://maps.google.com/maps/contrib/118133326103041885408', 'owner_name': 'Googleplex', 'booking_link': None, 'reservations_link': None, 'business_status': 'OPEN', 'type': 'Corporate campus', 'subtypes': ['Corporate campus', 'Software company'], 'subtype_gcids': ['corporate_campus', 'software_company'], 'photos_sample': [{'photo_id': 'CIHM0ogKEICAgIDxvduFkgE', 'photo_url': 'https://lh3.googleusercontent.com/gps-cs-s/AC9h4np_owrsZhyHD4AmuHXNbqoLYLBqiOB2p7OHT9I0Sb6_im8QLAwnYehzB_AJKA6j4U-xMK2lK02151h4b2ZPkYIEjmBSR5TzjDGWJSrbPbjs9A6USzm3mLfdy03n37FFBmjm5QUL', 'photo_url_large': 'https://lh3.googleusercontent.com/gps-cs-s/AC9h4np_owrsZhyHD4AmuHXNbqoLYLBqiOB2p7OHT9I0Sb6_im8QLAwnYehzB_AJKA6j4U-xMK2lK02151h4b2ZPkYIEjmBSR5TzjDGWJSrbPbjs9A6USzm3mLfdy03n37FFBmjm5QUL=w4032-h3024-k-no', 'video_thumbnail_url': None, 'latitude': 37.42206560403302, 'longitude': -122.08408972905949, 'type': 'photo', 'photo_datetime_utc': '2023-07-14T00:00:00.000Z', 'photo_timestamp': 1689292800}], 'reviews_per_rating': None, 'photo_count': 2557, 'about': {'summary': 'The global headquarters of Google, this campus encompasses offices, green space & recreation areas.', 'details': {'Service options': {'Onsite services': True}, 'Accessibility': {'Wheelchair accessible entrance': True}}}, 'address': '1600 Amphitheatre Pkwy, Mountain View, CA 94043', 'order_link': None, 'price_level': None, 'district': None, 'street_address': '1600 Amphitheatre Pkwy', 'city': 'Mountain View', 'zipcode': '94043', 'state': 'California', 'country': 'US'}]}\n",
            "No reviews found.\n",
            "No reviews available to analyze.\n"
          ]
        }
      ]
    }
  ]
}